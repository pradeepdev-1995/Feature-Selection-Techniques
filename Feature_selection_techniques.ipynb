{
  "nbformat": 4,
  "nbformat_minor": 0,
  "metadata": {
    "colab": {
      "provenance": []
    },
    "kernelspec": {
      "name": "python3",
      "display_name": "Python 3"
    },
    "language_info": {
      "name": "python"
    }
  },
  "cells": [
    {
      "cell_type": "code",
      "execution_count": 1,
      "metadata": {
        "id": "yqT8VRD-SgVN"
      },
      "outputs": [],
      "source": [
        "import pandas as pd\n",
        "import numpy as np"
      ]
    },
    {
      "cell_type": "markdown",
      "source": [
        "Load dataset"
      ],
      "metadata": {
        "id": "YXy_Sy19jO02"
      }
    },
    {
      "cell_type": "code",
      "source": [
        "data = pd.read_csv(\"/content/lois_continuous.csv\")"
      ],
      "metadata": {
        "id": "G04obh-3jQt9"
      },
      "execution_count": 2,
      "outputs": []
    },
    {
      "cell_type": "markdown",
      "source": [
        "Show details"
      ],
      "metadata": {
        "id": "kgfCPFQ3jW0F"
      }
    },
    {
      "cell_type": "code",
      "source": [
        "data.columns"
      ],
      "metadata": {
        "colab": {
          "base_uri": "https://localhost:8080/"
        },
        "id": "qBuilNVAjWAE",
        "outputId": "b69eab09-6d33-41d3-ebeb-0abe13e37bb1"
      },
      "execution_count": 3,
      "outputs": [
        {
          "output_type": "execute_result",
          "data": {
            "text/plain": [
              "Index(['FID', 'ID', 'SITE_NAME', 'DATE', 'PH', 'Conductivity ', 'OxygenCount',\n",
              "       'Temperature', 'Battery'],\n",
              "      dtype='object')"
            ]
          },
          "metadata": {},
          "execution_count": 3
        }
      ]
    },
    {
      "cell_type": "code",
      "source": [
        "data.head(10)"
      ],
      "metadata": {
        "colab": {
          "base_uri": "https://localhost:8080/",
          "height": 363
        },
        "id": "xYPC8UcyjxG4",
        "outputId": "5b7c8b23-9473-4be1-bf2d-fc2a8b2ee7cc"
      },
      "execution_count": 4,
      "outputs": [
        {
          "output_type": "execute_result",
          "data": {
            "text/plain": [
              "     FID  ID                  SITE_NAME              DATE    PH  \\\n",
              "0  29033  S1  Swale at Catterick Bridge  27/06/1995 11:00  8.27   \n",
              "1  29033  S1  Swale at Catterick Bridge  27/06/1995 11:30  8.31   \n",
              "2  29033  S1  Swale at Catterick Bridge  27/06/1995 12:00  8.34   \n",
              "3  29033  S1  Swale at Catterick Bridge  27/06/1995 12:30  8.36   \n",
              "4  29033  S1  Swale at Catterick Bridge  27/06/1995 13:00  8.39   \n",
              "5  29033  S1  Swale at Catterick Bridge  27/06/1995 13:30  8.41   \n",
              "6  29033  S1  Swale at Catterick Bridge  27/06/1995 14:00  8.44   \n",
              "7  29033  S1  Swale at Catterick Bridge  27/06/1995 14:30  8.46   \n",
              "8  29033  S1  Swale at Catterick Bridge  27/06/1995 15:00  8.48   \n",
              "9  29033  S1  Swale at Catterick Bridge  27/06/1995 15:30  8.50   \n",
              "\n",
              "   Conductivity   OxygenCount  Temperature  Battery  \n",
              "0          411.0        102.2         16.8     13.0  \n",
              "1          412.0        105.8         17.2     13.0  \n",
              "2          413.0        107.0         17.5     13.0  \n",
              "3          414.0        108.7         17.9     13.0  \n",
              "4          416.0        110.2         18.3     13.0  \n",
              "5          417.0        112.5         18.6     13.0  \n",
              "6          419.0        112.6         19.0     13.0  \n",
              "7          418.0        114.4         19.3     13.0  \n",
              "8          417.0        114.3         19.6     13.0  \n",
              "9          417.0        115.5         19.9     13.0  "
            ],
            "text/html": [
              "\n",
              "  <div id=\"df-8fedc1df-d04c-408d-a7fb-029f487aa801\">\n",
              "    <div class=\"colab-df-container\">\n",
              "      <div>\n",
              "<style scoped>\n",
              "    .dataframe tbody tr th:only-of-type {\n",
              "        vertical-align: middle;\n",
              "    }\n",
              "\n",
              "    .dataframe tbody tr th {\n",
              "        vertical-align: top;\n",
              "    }\n",
              "\n",
              "    .dataframe thead th {\n",
              "        text-align: right;\n",
              "    }\n",
              "</style>\n",
              "<table border=\"1\" class=\"dataframe\">\n",
              "  <thead>\n",
              "    <tr style=\"text-align: right;\">\n",
              "      <th></th>\n",
              "      <th>FID</th>\n",
              "      <th>ID</th>\n",
              "      <th>SITE_NAME</th>\n",
              "      <th>DATE</th>\n",
              "      <th>PH</th>\n",
              "      <th>Conductivity</th>\n",
              "      <th>OxygenCount</th>\n",
              "      <th>Temperature</th>\n",
              "      <th>Battery</th>\n",
              "    </tr>\n",
              "  </thead>\n",
              "  <tbody>\n",
              "    <tr>\n",
              "      <th>0</th>\n",
              "      <td>29033</td>\n",
              "      <td>S1</td>\n",
              "      <td>Swale at Catterick Bridge</td>\n",
              "      <td>27/06/1995 11:00</td>\n",
              "      <td>8.27</td>\n",
              "      <td>411.0</td>\n",
              "      <td>102.2</td>\n",
              "      <td>16.8</td>\n",
              "      <td>13.0</td>\n",
              "    </tr>\n",
              "    <tr>\n",
              "      <th>1</th>\n",
              "      <td>29033</td>\n",
              "      <td>S1</td>\n",
              "      <td>Swale at Catterick Bridge</td>\n",
              "      <td>27/06/1995 11:30</td>\n",
              "      <td>8.31</td>\n",
              "      <td>412.0</td>\n",
              "      <td>105.8</td>\n",
              "      <td>17.2</td>\n",
              "      <td>13.0</td>\n",
              "    </tr>\n",
              "    <tr>\n",
              "      <th>2</th>\n",
              "      <td>29033</td>\n",
              "      <td>S1</td>\n",
              "      <td>Swale at Catterick Bridge</td>\n",
              "      <td>27/06/1995 12:00</td>\n",
              "      <td>8.34</td>\n",
              "      <td>413.0</td>\n",
              "      <td>107.0</td>\n",
              "      <td>17.5</td>\n",
              "      <td>13.0</td>\n",
              "    </tr>\n",
              "    <tr>\n",
              "      <th>3</th>\n",
              "      <td>29033</td>\n",
              "      <td>S1</td>\n",
              "      <td>Swale at Catterick Bridge</td>\n",
              "      <td>27/06/1995 12:30</td>\n",
              "      <td>8.36</td>\n",
              "      <td>414.0</td>\n",
              "      <td>108.7</td>\n",
              "      <td>17.9</td>\n",
              "      <td>13.0</td>\n",
              "    </tr>\n",
              "    <tr>\n",
              "      <th>4</th>\n",
              "      <td>29033</td>\n",
              "      <td>S1</td>\n",
              "      <td>Swale at Catterick Bridge</td>\n",
              "      <td>27/06/1995 13:00</td>\n",
              "      <td>8.39</td>\n",
              "      <td>416.0</td>\n",
              "      <td>110.2</td>\n",
              "      <td>18.3</td>\n",
              "      <td>13.0</td>\n",
              "    </tr>\n",
              "    <tr>\n",
              "      <th>5</th>\n",
              "      <td>29033</td>\n",
              "      <td>S1</td>\n",
              "      <td>Swale at Catterick Bridge</td>\n",
              "      <td>27/06/1995 13:30</td>\n",
              "      <td>8.41</td>\n",
              "      <td>417.0</td>\n",
              "      <td>112.5</td>\n",
              "      <td>18.6</td>\n",
              "      <td>13.0</td>\n",
              "    </tr>\n",
              "    <tr>\n",
              "      <th>6</th>\n",
              "      <td>29033</td>\n",
              "      <td>S1</td>\n",
              "      <td>Swale at Catterick Bridge</td>\n",
              "      <td>27/06/1995 14:00</td>\n",
              "      <td>8.44</td>\n",
              "      <td>419.0</td>\n",
              "      <td>112.6</td>\n",
              "      <td>19.0</td>\n",
              "      <td>13.0</td>\n",
              "    </tr>\n",
              "    <tr>\n",
              "      <th>7</th>\n",
              "      <td>29033</td>\n",
              "      <td>S1</td>\n",
              "      <td>Swale at Catterick Bridge</td>\n",
              "      <td>27/06/1995 14:30</td>\n",
              "      <td>8.46</td>\n",
              "      <td>418.0</td>\n",
              "      <td>114.4</td>\n",
              "      <td>19.3</td>\n",
              "      <td>13.0</td>\n",
              "    </tr>\n",
              "    <tr>\n",
              "      <th>8</th>\n",
              "      <td>29033</td>\n",
              "      <td>S1</td>\n",
              "      <td>Swale at Catterick Bridge</td>\n",
              "      <td>27/06/1995 15:00</td>\n",
              "      <td>8.48</td>\n",
              "      <td>417.0</td>\n",
              "      <td>114.3</td>\n",
              "      <td>19.6</td>\n",
              "      <td>13.0</td>\n",
              "    </tr>\n",
              "    <tr>\n",
              "      <th>9</th>\n",
              "      <td>29033</td>\n",
              "      <td>S1</td>\n",
              "      <td>Swale at Catterick Bridge</td>\n",
              "      <td>27/06/1995 15:30</td>\n",
              "      <td>8.50</td>\n",
              "      <td>417.0</td>\n",
              "      <td>115.5</td>\n",
              "      <td>19.9</td>\n",
              "      <td>13.0</td>\n",
              "    </tr>\n",
              "  </tbody>\n",
              "</table>\n",
              "</div>\n",
              "      <button class=\"colab-df-convert\" onclick=\"convertToInteractive('df-8fedc1df-d04c-408d-a7fb-029f487aa801')\"\n",
              "              title=\"Convert this dataframe to an interactive table.\"\n",
              "              style=\"display:none;\">\n",
              "        \n",
              "  <svg xmlns=\"http://www.w3.org/2000/svg\" height=\"24px\"viewBox=\"0 0 24 24\"\n",
              "       width=\"24px\">\n",
              "    <path d=\"M0 0h24v24H0V0z\" fill=\"none\"/>\n",
              "    <path d=\"M18.56 5.44l.94 2.06.94-2.06 2.06-.94-2.06-.94-.94-2.06-.94 2.06-2.06.94zm-11 1L8.5 8.5l.94-2.06 2.06-.94-2.06-.94L8.5 2.5l-.94 2.06-2.06.94zm10 10l.94 2.06.94-2.06 2.06-.94-2.06-.94-.94-2.06-.94 2.06-2.06.94z\"/><path d=\"M17.41 7.96l-1.37-1.37c-.4-.4-.92-.59-1.43-.59-.52 0-1.04.2-1.43.59L10.3 9.45l-7.72 7.72c-.78.78-.78 2.05 0 2.83L4 21.41c.39.39.9.59 1.41.59.51 0 1.02-.2 1.41-.59l7.78-7.78 2.81-2.81c.8-.78.8-2.07 0-2.86zM5.41 20L4 18.59l7.72-7.72 1.47 1.35L5.41 20z\"/>\n",
              "  </svg>\n",
              "      </button>\n",
              "      \n",
              "  <style>\n",
              "    .colab-df-container {\n",
              "      display:flex;\n",
              "      flex-wrap:wrap;\n",
              "      gap: 12px;\n",
              "    }\n",
              "\n",
              "    .colab-df-convert {\n",
              "      background-color: #E8F0FE;\n",
              "      border: none;\n",
              "      border-radius: 50%;\n",
              "      cursor: pointer;\n",
              "      display: none;\n",
              "      fill: #1967D2;\n",
              "      height: 32px;\n",
              "      padding: 0 0 0 0;\n",
              "      width: 32px;\n",
              "    }\n",
              "\n",
              "    .colab-df-convert:hover {\n",
              "      background-color: #E2EBFA;\n",
              "      box-shadow: 0px 1px 2px rgba(60, 64, 67, 0.3), 0px 1px 3px 1px rgba(60, 64, 67, 0.15);\n",
              "      fill: #174EA6;\n",
              "    }\n",
              "\n",
              "    [theme=dark] .colab-df-convert {\n",
              "      background-color: #3B4455;\n",
              "      fill: #D2E3FC;\n",
              "    }\n",
              "\n",
              "    [theme=dark] .colab-df-convert:hover {\n",
              "      background-color: #434B5C;\n",
              "      box-shadow: 0px 1px 3px 1px rgba(0, 0, 0, 0.15);\n",
              "      filter: drop-shadow(0px 1px 2px rgba(0, 0, 0, 0.3));\n",
              "      fill: #FFFFFF;\n",
              "    }\n",
              "  </style>\n",
              "\n",
              "      <script>\n",
              "        const buttonEl =\n",
              "          document.querySelector('#df-8fedc1df-d04c-408d-a7fb-029f487aa801 button.colab-df-convert');\n",
              "        buttonEl.style.display =\n",
              "          google.colab.kernel.accessAllowed ? 'block' : 'none';\n",
              "\n",
              "        async function convertToInteractive(key) {\n",
              "          const element = document.querySelector('#df-8fedc1df-d04c-408d-a7fb-029f487aa801');\n",
              "          const dataTable =\n",
              "            await google.colab.kernel.invokeFunction('convertToInteractive',\n",
              "                                                     [key], {});\n",
              "          if (!dataTable) return;\n",
              "\n",
              "          const docLinkHtml = 'Like what you see? Visit the ' +\n",
              "            '<a target=\"_blank\" href=https://colab.research.google.com/notebooks/data_table.ipynb>data table notebook</a>'\n",
              "            + ' to learn more about interactive tables.';\n",
              "          element.innerHTML = '';\n",
              "          dataTable['output_type'] = 'display_data';\n",
              "          await google.colab.output.renderOutput(dataTable, element);\n",
              "          const docLink = document.createElement('div');\n",
              "          docLink.innerHTML = docLinkHtml;\n",
              "          element.appendChild(docLink);\n",
              "        }\n",
              "      </script>\n",
              "    </div>\n",
              "  </div>\n",
              "  "
            ]
          },
          "metadata": {},
          "execution_count": 4
        }
      ]
    },
    {
      "cell_type": "code",
      "source": [
        "data.describe()"
      ],
      "metadata": {
        "colab": {
          "base_uri": "https://localhost:8080/",
          "height": 300
        },
        "id": "4xbw6Icekxur",
        "outputId": "0a7f4759-35a5-402a-c5b8-25e6f3c51344"
      },
      "execution_count": 5,
      "outputs": [
        {
          "output_type": "execute_result",
          "data": {
            "text/plain": [
              "                FID             PH  Conductivity     OxygenCount  \\\n",
              "count  2.351200e+05  235119.000000  234538.000000  226434.000000   \n",
              "mean   5.217107e+05       7.759112     771.956162     104.046351   \n",
              "std    7.183234e+05       0.468810     368.871777    1408.652813   \n",
              "min    2.903300e+04       3.520000       0.600000       0.000000   \n",
              "25%    2.904100e+04       7.400000     475.000000      69.400000   \n",
              "50%    2.904300e+04       7.770000     685.000000      88.800000   \n",
              "75%    1.552046e+06       8.050000    1087.000000     100.000000   \n",
              "max    1.584377e+06       9.850000    2689.000000   99999.000000   \n",
              "\n",
              "         Temperature        Battery  \n",
              "count  235119.000000  210370.000000  \n",
              "mean       10.479797      14.398177  \n",
              "std         5.642680     435.994489  \n",
              "min        -0.500000      -0.100000  \n",
              "25%         5.600000      12.100000  \n",
              "50%        10.100000      12.800000  \n",
              "75%        15.000000      13.500000  \n",
              "max        30.400000   99999.000000  "
            ],
            "text/html": [
              "\n",
              "  <div id=\"df-5289de86-4f6e-444d-b623-60a759ec60a4\">\n",
              "    <div class=\"colab-df-container\">\n",
              "      <div>\n",
              "<style scoped>\n",
              "    .dataframe tbody tr th:only-of-type {\n",
              "        vertical-align: middle;\n",
              "    }\n",
              "\n",
              "    .dataframe tbody tr th {\n",
              "        vertical-align: top;\n",
              "    }\n",
              "\n",
              "    .dataframe thead th {\n",
              "        text-align: right;\n",
              "    }\n",
              "</style>\n",
              "<table border=\"1\" class=\"dataframe\">\n",
              "  <thead>\n",
              "    <tr style=\"text-align: right;\">\n",
              "      <th></th>\n",
              "      <th>FID</th>\n",
              "      <th>PH</th>\n",
              "      <th>Conductivity</th>\n",
              "      <th>OxygenCount</th>\n",
              "      <th>Temperature</th>\n",
              "      <th>Battery</th>\n",
              "    </tr>\n",
              "  </thead>\n",
              "  <tbody>\n",
              "    <tr>\n",
              "      <th>count</th>\n",
              "      <td>2.351200e+05</td>\n",
              "      <td>235119.000000</td>\n",
              "      <td>234538.000000</td>\n",
              "      <td>226434.000000</td>\n",
              "      <td>235119.000000</td>\n",
              "      <td>210370.000000</td>\n",
              "    </tr>\n",
              "    <tr>\n",
              "      <th>mean</th>\n",
              "      <td>5.217107e+05</td>\n",
              "      <td>7.759112</td>\n",
              "      <td>771.956162</td>\n",
              "      <td>104.046351</td>\n",
              "      <td>10.479797</td>\n",
              "      <td>14.398177</td>\n",
              "    </tr>\n",
              "    <tr>\n",
              "      <th>std</th>\n",
              "      <td>7.183234e+05</td>\n",
              "      <td>0.468810</td>\n",
              "      <td>368.871777</td>\n",
              "      <td>1408.652813</td>\n",
              "      <td>5.642680</td>\n",
              "      <td>435.994489</td>\n",
              "    </tr>\n",
              "    <tr>\n",
              "      <th>min</th>\n",
              "      <td>2.903300e+04</td>\n",
              "      <td>3.520000</td>\n",
              "      <td>0.600000</td>\n",
              "      <td>0.000000</td>\n",
              "      <td>-0.500000</td>\n",
              "      <td>-0.100000</td>\n",
              "    </tr>\n",
              "    <tr>\n",
              "      <th>25%</th>\n",
              "      <td>2.904100e+04</td>\n",
              "      <td>7.400000</td>\n",
              "      <td>475.000000</td>\n",
              "      <td>69.400000</td>\n",
              "      <td>5.600000</td>\n",
              "      <td>12.100000</td>\n",
              "    </tr>\n",
              "    <tr>\n",
              "      <th>50%</th>\n",
              "      <td>2.904300e+04</td>\n",
              "      <td>7.770000</td>\n",
              "      <td>685.000000</td>\n",
              "      <td>88.800000</td>\n",
              "      <td>10.100000</td>\n",
              "      <td>12.800000</td>\n",
              "    </tr>\n",
              "    <tr>\n",
              "      <th>75%</th>\n",
              "      <td>1.552046e+06</td>\n",
              "      <td>8.050000</td>\n",
              "      <td>1087.000000</td>\n",
              "      <td>100.000000</td>\n",
              "      <td>15.000000</td>\n",
              "      <td>13.500000</td>\n",
              "    </tr>\n",
              "    <tr>\n",
              "      <th>max</th>\n",
              "      <td>1.584377e+06</td>\n",
              "      <td>9.850000</td>\n",
              "      <td>2689.000000</td>\n",
              "      <td>99999.000000</td>\n",
              "      <td>30.400000</td>\n",
              "      <td>99999.000000</td>\n",
              "    </tr>\n",
              "  </tbody>\n",
              "</table>\n",
              "</div>\n",
              "      <button class=\"colab-df-convert\" onclick=\"convertToInteractive('df-5289de86-4f6e-444d-b623-60a759ec60a4')\"\n",
              "              title=\"Convert this dataframe to an interactive table.\"\n",
              "              style=\"display:none;\">\n",
              "        \n",
              "  <svg xmlns=\"http://www.w3.org/2000/svg\" height=\"24px\"viewBox=\"0 0 24 24\"\n",
              "       width=\"24px\">\n",
              "    <path d=\"M0 0h24v24H0V0z\" fill=\"none\"/>\n",
              "    <path d=\"M18.56 5.44l.94 2.06.94-2.06 2.06-.94-2.06-.94-.94-2.06-.94 2.06-2.06.94zm-11 1L8.5 8.5l.94-2.06 2.06-.94-2.06-.94L8.5 2.5l-.94 2.06-2.06.94zm10 10l.94 2.06.94-2.06 2.06-.94-2.06-.94-.94-2.06-.94 2.06-2.06.94z\"/><path d=\"M17.41 7.96l-1.37-1.37c-.4-.4-.92-.59-1.43-.59-.52 0-1.04.2-1.43.59L10.3 9.45l-7.72 7.72c-.78.78-.78 2.05 0 2.83L4 21.41c.39.39.9.59 1.41.59.51 0 1.02-.2 1.41-.59l7.78-7.78 2.81-2.81c.8-.78.8-2.07 0-2.86zM5.41 20L4 18.59l7.72-7.72 1.47 1.35L5.41 20z\"/>\n",
              "  </svg>\n",
              "      </button>\n",
              "      \n",
              "  <style>\n",
              "    .colab-df-container {\n",
              "      display:flex;\n",
              "      flex-wrap:wrap;\n",
              "      gap: 12px;\n",
              "    }\n",
              "\n",
              "    .colab-df-convert {\n",
              "      background-color: #E8F0FE;\n",
              "      border: none;\n",
              "      border-radius: 50%;\n",
              "      cursor: pointer;\n",
              "      display: none;\n",
              "      fill: #1967D2;\n",
              "      height: 32px;\n",
              "      padding: 0 0 0 0;\n",
              "      width: 32px;\n",
              "    }\n",
              "\n",
              "    .colab-df-convert:hover {\n",
              "      background-color: #E2EBFA;\n",
              "      box-shadow: 0px 1px 2px rgba(60, 64, 67, 0.3), 0px 1px 3px 1px rgba(60, 64, 67, 0.15);\n",
              "      fill: #174EA6;\n",
              "    }\n",
              "\n",
              "    [theme=dark] .colab-df-convert {\n",
              "      background-color: #3B4455;\n",
              "      fill: #D2E3FC;\n",
              "    }\n",
              "\n",
              "    [theme=dark] .colab-df-convert:hover {\n",
              "      background-color: #434B5C;\n",
              "      box-shadow: 0px 1px 3px 1px rgba(0, 0, 0, 0.15);\n",
              "      filter: drop-shadow(0px 1px 2px rgba(0, 0, 0, 0.3));\n",
              "      fill: #FFFFFF;\n",
              "    }\n",
              "  </style>\n",
              "\n",
              "      <script>\n",
              "        const buttonEl =\n",
              "          document.querySelector('#df-5289de86-4f6e-444d-b623-60a759ec60a4 button.colab-df-convert');\n",
              "        buttonEl.style.display =\n",
              "          google.colab.kernel.accessAllowed ? 'block' : 'none';\n",
              "\n",
              "        async function convertToInteractive(key) {\n",
              "          const element = document.querySelector('#df-5289de86-4f6e-444d-b623-60a759ec60a4');\n",
              "          const dataTable =\n",
              "            await google.colab.kernel.invokeFunction('convertToInteractive',\n",
              "                                                     [key], {});\n",
              "          if (!dataTable) return;\n",
              "\n",
              "          const docLinkHtml = 'Like what you see? Visit the ' +\n",
              "            '<a target=\"_blank\" href=https://colab.research.google.com/notebooks/data_table.ipynb>data table notebook</a>'\n",
              "            + ' to learn more about interactive tables.';\n",
              "          element.innerHTML = '';\n",
              "          dataTable['output_type'] = 'display_data';\n",
              "          await google.colab.output.renderOutput(dataTable, element);\n",
              "          const docLink = document.createElement('div');\n",
              "          docLink.innerHTML = docLinkHtml;\n",
              "          element.appendChild(docLink);\n",
              "        }\n",
              "      </script>\n",
              "    </div>\n",
              "  </div>\n",
              "  "
            ]
          },
          "metadata": {},
          "execution_count": 5
        }
      ]
    },
    {
      "cell_type": "code",
      "source": [
        "len(data)"
      ],
      "metadata": {
        "colab": {
          "base_uri": "https://localhost:8080/"
        },
        "id": "kq8xA-Thusiu",
        "outputId": "978f3f8a-38b8-409b-fa61-9e7e2c4ee89b"
      },
      "execution_count": 6,
      "outputs": [
        {
          "output_type": "execute_result",
          "data": {
            "text/plain": [
              "235120"
            ]
          },
          "metadata": {},
          "execution_count": 6
        }
      ]
    },
    {
      "cell_type": "markdown",
      "source": [
        "Remove missing values"
      ],
      "metadata": {
        "id": "dLOaaF0vlgBy"
      }
    },
    {
      "cell_type": "code",
      "source": [
        "data = data.dropna()\n",
        "len(data)"
      ],
      "metadata": {
        "colab": {
          "base_uri": "https://localhost:8080/"
        },
        "id": "SDYGxBMHlV5y",
        "outputId": "500136c4-4701-4a91-c9fc-557f47c513d4"
      },
      "execution_count": 8,
      "outputs": [
        {
          "output_type": "execute_result",
          "data": {
            "text/plain": [
              "202613"
            ]
          },
          "metadata": {},
          "execution_count": 8
        }
      ]
    },
    {
      "cell_type": "code",
      "source": [
        "data.columns.tolist()"
      ],
      "metadata": {
        "colab": {
          "base_uri": "https://localhost:8080/"
        },
        "id": "0nYvoUbgl7_6",
        "outputId": "c3d38865-cdae-4bfe-df94-08d5b6431eda"
      },
      "execution_count": 9,
      "outputs": [
        {
          "output_type": "execute_result",
          "data": {
            "text/plain": [
              "['FID',\n",
              " 'ID',\n",
              " 'SITE_NAME',\n",
              " 'DATE',\n",
              " 'PH',\n",
              " 'Conductivity ',\n",
              " 'OxygenCount',\n",
              " 'Temperature',\n",
              " 'Battery']"
            ]
          },
          "metadata": {},
          "execution_count": 9
        }
      ]
    },
    {
      "cell_type": "markdown",
      "source": [
        "Consider only relevant critical features"
      ],
      "metadata": {
        "id": "W1CVt0ninPRr"
      }
    },
    {
      "cell_type": "code",
      "source": [
        "data = data[['PH','Conductivity ','Temperature','Battery','OxygenCount']]"
      ],
      "metadata": {
        "id": "_-AElwhcltb7"
      },
      "execution_count": 10,
      "outputs": []
    },
    {
      "cell_type": "markdown",
      "source": [
        "#Detect Outliers"
      ],
      "metadata": {
        "id": "QWY0cWcatIPY"
      }
    },
    {
      "cell_type": "markdown",
      "source": [
        "Method 1. Visualization"
      ],
      "metadata": {
        "id": "MKoL6pZatPCC"
      }
    },
    {
      "cell_type": "code",
      "source": [
        "import seaborn as sns\n",
        "sns.boxplot(data['PH'])"
      ],
      "metadata": {
        "colab": {
          "base_uri": "https://localhost:8080/",
          "height": 351
        },
        "id": "OiCZEtfnsuDA",
        "outputId": "222b29fb-a23a-4e5a-bb69-9a0302d5d8fd"
      },
      "execution_count": 11,
      "outputs": [
        {
          "output_type": "stream",
          "name": "stderr",
          "text": [
            "/usr/local/lib/python3.7/dist-packages/seaborn/_decorators.py:43: FutureWarning: Pass the following variable as a keyword arg: x. From version 0.12, the only valid positional argument will be `data`, and passing other arguments without an explicit keyword will result in an error or misinterpretation.\n",
            "  FutureWarning\n"
          ]
        },
        {
          "output_type": "execute_result",
          "data": {
            "text/plain": [
              "<matplotlib.axes._subplots.AxesSubplot at 0x7f6037e5aed0>"
            ]
          },
          "metadata": {},
          "execution_count": 11
        },
        {
          "output_type": "display_data",
          "data": {
            "text/plain": [
              "<Figure size 432x288 with 1 Axes>"
            ],
            "image/png": "[encoded data removed]"
          },
          "metadata": {
            "needs_background": "light"
          }
        }
      ]
    },
    {
      "cell_type": "code",
      "source": [
        "data = data[(data[\"PH\"] < 9) & (data[\"PH\"] > 6.5)]"
      ],
      "metadata": {
        "id": "G5PZXADbt9r5"
      },
      "execution_count": 12,
      "outputs": []
    },
    {
      "cell_type": "code",
      "source": [
        "len(data)"
      ],
      "metadata": {
        "colab": {
          "base_uri": "https://localhost:8080/"
        },
        "id": "lEqnCNmfu5Lu",
        "outputId": "be82077f-1317-4cc2-fa33-38f7c3f31c64"
      },
      "execution_count": 13,
      "outputs": [
        {
          "output_type": "execute_result",
          "data": {
            "text/plain": [
              "200526"
            ]
          },
          "metadata": {},
          "execution_count": 13
        }
      ]
    },
    {
      "cell_type": "code",
      "source": [
        "sns.boxplot(data['Conductivity '])"
      ],
      "metadata": {
        "colab": {
          "base_uri": "https://localhost:8080/",
          "height": 351
        },
        "id": "6Nj0XkZNszIv",
        "outputId": "e66630a2-1e28-403f-f3ae-a460537036b8"
      },
      "execution_count": 14,
      "outputs": [
        {
          "output_type": "stream",
          "name": "stderr",
          "text": [
            "/usr/local/lib/python3.7/dist-packages/seaborn/_decorators.py:43: FutureWarning: Pass the following variable as a keyword arg: x. From version 0.12, the only valid positional argument will be `data`, and passing other arguments without an explicit keyword will result in an error or misinterpretation.\n",
            "  FutureWarning\n"
          ]
        },
        {
          "output_type": "execute_result",
          "data": {
            "text/plain": [
              "<matplotlib.axes._subplots.AxesSubplot at 0x7f6037dc2890>"
            ]
          },
          "metadata": {},
          "execution_count": 14
        },
        {
          "output_type": "display_data",
          "data": {
            "text/plain": [
              "<Figure size 432x288 with 1 Axes>"
            ],
            "image/png": "[encoded data removed]"
          },
          "metadata": {
            "needs_background": "light"
          }
        }
      ]
    },
    {
      "cell_type": "code",
      "source": [
        "data = data[(data[\"Conductivity \"] < 2000) & (data[\"Conductivity \"] > 0)]"
      ],
      "metadata": {
        "id": "tFL0-Y44vR0v"
      },
      "execution_count": 15,
      "outputs": []
    },
    {
      "cell_type": "code",
      "source": [
        "len(data)"
      ],
      "metadata": {
        "colab": {
          "base_uri": "https://localhost:8080/"
        },
        "id": "dNEiHZBzvcl-",
        "outputId": "55b017f6-e3f5-48df-9deb-9d682cd22045"
      },
      "execution_count": 16,
      "outputs": [
        {
          "output_type": "execute_result",
          "data": {
            "text/plain": [
              "200078"
            ]
          },
          "metadata": {},
          "execution_count": 16
        }
      ]
    },
    {
      "cell_type": "code",
      "source": [
        "sns.boxplot(data['Temperature'])"
      ],
      "metadata": {
        "colab": {
          "base_uri": "https://localhost:8080/",
          "height": 351
        },
        "id": "EKM4uWdEs6bz",
        "outputId": "7ed0c765-6c0c-4d05-a902-6810f9879ddf"
      },
      "execution_count": 17,
      "outputs": [
        {
          "output_type": "stream",
          "name": "stderr",
          "text": [
            "/usr/local/lib/python3.7/dist-packages/seaborn/_decorators.py:43: FutureWarning: Pass the following variable as a keyword arg: x. From version 0.12, the only valid positional argument will be `data`, and passing other arguments without an explicit keyword will result in an error or misinterpretation.\n",
            "  FutureWarning\n"
          ]
        },
        {
          "output_type": "execute_result",
          "data": {
            "text/plain": [
              "<matplotlib.axes._subplots.AxesSubplot at 0x7f60378ee310>"
            ]
          },
          "metadata": {},
          "execution_count": 17
        },
        {
          "output_type": "display_data",
          "data": {
            "text/plain": [
              "<Figure size 432x288 with 1 Axes>"
            ],
            "image/png": "[encoded data removed]"
          },
          "metadata": {
            "needs_background": "light"
          }
        }
      ]
    },
    {
      "cell_type": "code",
      "source": [
        "data = data[(data[\"Temperature\"] < 30) & (data[\"Temperature\"] > 0)]"
      ],
      "metadata": {
        "id": "2_ZPmjCFvjXF"
      },
      "execution_count": 18,
      "outputs": []
    },
    {
      "cell_type": "code",
      "source": [
        "len(data)"
      ],
      "metadata": {
        "colab": {
          "base_uri": "https://localhost:8080/"
        },
        "id": "3eK0L9N3v4vq",
        "outputId": "fe9b51a7-e751-4095-d246-99a602f42dae"
      },
      "execution_count": 19,
      "outputs": [
        {
          "output_type": "execute_result",
          "data": {
            "text/plain": [
              "199378"
            ]
          },
          "metadata": {},
          "execution_count": 19
        }
      ]
    },
    {
      "cell_type": "code",
      "source": [
        "sns.boxplot(data['Battery'])"
      ],
      "metadata": {
        "colab": {
          "base_uri": "https://localhost:8080/",
          "height": 351
        },
        "id": "zlHRwFIEs9jz",
        "outputId": "cd98bec9-1d67-4e7a-fe50-f6a330c668c4"
      },
      "execution_count": 20,
      "outputs": [
        {
          "output_type": "stream",
          "name": "stderr",
          "text": [
            "/usr/local/lib/python3.7/dist-packages/seaborn/_decorators.py:43: FutureWarning: Pass the following variable as a keyword arg: x. From version 0.12, the only valid positional argument will be `data`, and passing other arguments without an explicit keyword will result in an error or misinterpretation.\n",
            "  FutureWarning\n"
          ]
        },
        {
          "output_type": "execute_result",
          "data": {
            "text/plain": [
              "<matplotlib.axes._subplots.AxesSubplot at 0x7f603786e190>"
            ]
          },
          "metadata": {},
          "execution_count": 20
        },
        {
          "output_type": "display_data",
          "data": {
            "text/plain": [
              "<Figure size 432x288 with 1 Axes>"
            ],
            "image/png": "[encoded data removed]"
          },
          "metadata": {
            "needs_background": "light"
          }
        }
      ]
    },
    {
      "cell_type": "markdown",
      "source": [
        "No Categorical features to encode So skipping that phase\n",
        "\n"
      ],
      "metadata": {
        "id": "W_t2JmzRwuGf"
      }
    },
    {
      "cell_type": "markdown",
      "source": [
        "#Univariate analysis. \n",
        "This is when you analyze a **single** **feature**, and the most common two techniques for this are\n",
        "\n",
        " 1) Remove features with low variance \n",
        "\n",
        " \n",
        " 2) Remove features that have a high amount of missing values."
      ],
      "metadata": {
        "id": "4c1acVZl0JPz"
      }
    },
    {
      "cell_type": "markdown",
      "source": [
        "##Remove features with low variance"
      ],
      "metadata": {
        "id": "8tzNl9pv0vi6"
      }
    },
    {
      "cell_type": "code",
      "source": [
        "from sklearn.feature_selection import VarianceThreshold\n",
        "\n",
        "variance = VarianceThreshold(threshold = (.9 * (1 - .9)))\n",
        "variance.fit(data)\n",
        "\n",
        "variance.get_support()"
      ],
      "metadata": {
        "colab": {
          "base_uri": "https://localhost:8080/"
        },
        "id": "b3ncP3MutW6y",
        "outputId": "edc3a9ce-a198-4c1c-af9b-77877fd156ad"
      },
      "execution_count": 23,
      "outputs": [
        {
          "output_type": "execute_result",
          "data": {
            "text/plain": [
              "array([ True,  True,  True,  True,  True])"
            ]
          },
          "metadata": {},
          "execution_count": 23
        }
      ]
    },
    {
      "cell_type": "markdown",
      "source": [
        "There is no feature with low variance"
      ],
      "metadata": {
        "id": "lriHr2sG01Wk"
      }
    },
    {
      "cell_type": "markdown",
      "source": [
        "##Remove features with missing values"
      ],
      "metadata": {
        "id": "tbuOumIw1CYI"
      }
    },
    {
      "cell_type": "code",
      "source": [
        "data = data.dropna()\n",
        "len(data)"
      ],
      "metadata": {
        "colab": {
          "base_uri": "https://localhost:8080/"
        },
        "id": "V9TpD1UP1GjK",
        "outputId": "42a49602-1ee2-450b-b603-1bb73f76fe20"
      },
      "execution_count": 24,
      "outputs": [
        {
          "output_type": "execute_result",
          "data": {
            "text/plain": [
              "199378"
            ]
          },
          "metadata": {},
          "execution_count": 24
        }
      ]
    },
    {
      "cell_type": "markdown",
      "source": [
        "#Bi-Variate analysis"
      ],
      "metadata": {
        "id": "smvMeEVk1s6c"
      }
    },
    {
      "cell_type": "markdown",
      "source": [
        "#Filter based methods"
      ],
      "metadata": {
        "id": "5W3XuUkz-Kyo"
      }
    },
    {
      "cell_type": "markdown",
      "source": [
        "##Identify highly correlated features."
      ],
      "metadata": {
        "id": "NLQ9_lvp1i7E"
      }
    },
    {
      "cell_type": "code",
      "source": [
        "data_cor=data.corr()\n",
        "data_cor"
      ],
      "metadata": {
        "colab": {
          "base_uri": "https://localhost:8080/",
          "height": 206
        },
        "id": "mOjWaKyg6243",
        "outputId": "d0aa687f-8484-4148-ccd9-7077d9fe91ef"
      },
      "execution_count": 25,
      "outputs": [
        {
          "output_type": "execute_result",
          "data": {
            "text/plain": [
              "                     PH  Conductivity   Temperature   Battery  OxygenCount\n",
              "PH             1.000000      -0.345254    -0.082669 -0.002428     0.002847\n",
              "Conductivity  -0.345254       1.000000     0.292360 -0.003717     0.003416\n",
              "Temperature   -0.082669       0.292360     1.000000 -0.000749     0.007515\n",
              "Battery       -0.002428      -0.003717    -0.000749  1.000000    -0.000011\n",
              "OxygenCount    0.002847       0.003416     0.007515 -0.000011     1.000000"
            ],
            "text/html": [
              "\n",
              "  <div id=\"df-40c97840-2d3a-4c7d-b390-658a9afce5db\">\n",
              "    <div class=\"colab-df-container\">\n",
              "      <div>\n",
              "<style scoped>\n",
              "    .dataframe tbody tr th:only-of-type {\n",
              "        vertical-align: middle;\n",
              "    }\n",
              "\n",
              "    .dataframe tbody tr th {\n",
              "        vertical-align: top;\n",
              "    }\n",
              "\n",
              "    .dataframe thead th {\n",
              "        text-align: right;\n",
              "    }\n",
              "</style>\n",
              "<table border=\"1\" class=\"dataframe\">\n",
              "  <thead>\n",
              "    <tr style=\"text-align: right;\">\n",
              "      <th></th>\n",
              "      <th>PH</th>\n",
              "      <th>Conductivity</th>\n",
              "      <th>Temperature</th>\n",
              "      <th>Battery</th>\n",
              "      <th>OxygenCount</th>\n",
              "    </tr>\n",
              "  </thead>\n",
              "  <tbody>\n",
              "    <tr>\n",
              "      <th>PH</th>\n",
              "      <td>1.000000</td>\n",
              "      <td>-0.345254</td>\n",
              "      <td>-0.082669</td>\n",
              "      <td>-0.002428</td>\n",
              "      <td>0.002847</td>\n",
              "    </tr>\n",
              "    <tr>\n",
              "      <th>Conductivity</th>\n",
              "      <td>-0.345254</td>\n",
              "      <td>1.000000</td>\n",
              "      <td>0.292360</td>\n",
              "      <td>-0.003717</td>\n",
              "      <td>0.003416</td>\n",
              "    </tr>\n",
              "    <tr>\n",
              "      <th>Temperature</th>\n",
              "      <td>-0.082669</td>\n",
              "      <td>0.292360</td>\n",
              "      <td>1.000000</td>\n",
              "      <td>-0.000749</td>\n",
              "      <td>0.007515</td>\n",
              "    </tr>\n",
              "    <tr>\n",
              "      <th>Battery</th>\n",
              "      <td>-0.002428</td>\n",
              "      <td>-0.003717</td>\n",
              "      <td>-0.000749</td>\n",
              "      <td>1.000000</td>\n",
              "      <td>-0.000011</td>\n",
              "    </tr>\n",
              "    <tr>\n",
              "      <th>OxygenCount</th>\n",
              "      <td>0.002847</td>\n",
              "      <td>0.003416</td>\n",
              "      <td>0.007515</td>\n",
              "      <td>-0.000011</td>\n",
              "      <td>1.000000</td>\n",
              "    </tr>\n",
              "  </tbody>\n",
              "</table>\n",
              "</div>\n",
              "      <button class=\"colab-df-convert\" onclick=\"convertToInteractive('df-40c97840-2d3a-4c7d-b390-658a9afce5db')\"\n",
              "              title=\"Convert this dataframe to an interactive table.\"\n",
              "              style=\"display:none;\">\n",
              "        \n",
              "  <svg xmlns=\"http://www.w3.org/2000/svg\" height=\"24px\"viewBox=\"0 0 24 24\"\n",
              "       width=\"24px\">\n",
              "    <path d=\"M0 0h24v24H0V0z\" fill=\"none\"/>\n",
              "    <path d=\"M18.56 5.44l.94 2.06.94-2.06 2.06-.94-2.06-.94-.94-2.06-.94 2.06-2.06.94zm-11 1L8.5 8.5l.94-2.06 2.06-.94-2.06-.94L8.5 2.5l-.94 2.06-2.06.94zm10 10l.94 2.06.94-2.06 2.06-.94-2.06-.94-.94-2.06-.94 2.06-2.06.94z\"/><path d=\"M17.41 7.96l-1.37-1.37c-.4-.4-.92-.59-1.43-.59-.52 0-1.04.2-1.43.59L10.3 9.45l-7.72 7.72c-.78.78-.78 2.05 0 2.83L4 21.41c.39.39.9.59 1.41.59.51 0 1.02-.2 1.41-.59l7.78-7.78 2.81-2.81c.8-.78.8-2.07 0-2.86zM5.41 20L4 18.59l7.72-7.72 1.47 1.35L5.41 20z\"/>\n",
              "  </svg>\n",
              "      </button>\n",
              "      \n",
              "  <style>\n",
              "    .colab-df-container {\n",
              "      display:flex;\n",
              "      flex-wrap:wrap;\n",
              "      gap: 12px;\n",
              "    }\n",
              "\n",
              "    .colab-df-convert {\n",
              "      background-color: #E8F0FE;\n",
              "      border: none;\n",
              "      border-radius: 50%;\n",
              "      cursor: pointer;\n",
              "      display: none;\n",
              "      fill: #1967D2;\n",
              "      height: 32px;\n",
              "      padding: 0 0 0 0;\n",
              "      width: 32px;\n",
              "    }\n",
              "\n",
              "    .colab-df-convert:hover {\n",
              "      background-color: #E2EBFA;\n",
              "      box-shadow: 0px 1px 2px rgba(60, 64, 67, 0.3), 0px 1px 3px 1px rgba(60, 64, 67, 0.15);\n",
              "      fill: #174EA6;\n",
              "    }\n",
              "\n",
              "    [theme=dark] .colab-df-convert {\n",
              "      background-color: #3B4455;\n",
              "      fill: #D2E3FC;\n",
              "    }\n",
              "\n",
              "    [theme=dark] .colab-df-convert:hover {\n",
              "      background-color: #434B5C;\n",
              "      box-shadow: 0px 1px 3px 1px rgba(0, 0, 0, 0.15);\n",
              "      filter: drop-shadow(0px 1px 2px rgba(0, 0, 0, 0.3));\n",
              "      fill: #FFFFFF;\n",
              "    }\n",
              "  </style>\n",
              "\n",
              "      <script>\n",
              "        const buttonEl =\n",
              "          document.querySelector('#df-40c97840-2d3a-4c7d-b390-658a9afce5db button.colab-df-convert');\n",
              "        buttonEl.style.display =\n",
              "          google.colab.kernel.accessAllowed ? 'block' : 'none';\n",
              "\n",
              "        async function convertToInteractive(key) {\n",
              "          const element = document.querySelector('#df-40c97840-2d3a-4c7d-b390-658a9afce5db');\n",
              "          const dataTable =\n",
              "            await google.colab.kernel.invokeFunction('convertToInteractive',\n",
              "                                                     [key], {});\n",
              "          if (!dataTable) return;\n",
              "\n",
              "          const docLinkHtml = 'Like what you see? Visit the ' +\n",
              "            '<a target=\"_blank\" href=https://colab.research.google.com/notebooks/data_table.ipynb>data table notebook</a>'\n",
              "            + ' to learn more about interactive tables.';\n",
              "          element.innerHTML = '';\n",
              "          dataTable['output_type'] = 'display_data';\n",
              "          await google.colab.output.renderOutput(dataTable, element);\n",
              "          const docLink = document.createElement('div');\n",
              "          docLink.innerHTML = docLinkHtml;\n",
              "          element.appendChild(docLink);\n",
              "        }\n",
              "      </script>\n",
              "    </div>\n",
              "  </div>\n",
              "  "
            ]
          },
          "metadata": {},
          "execution_count": 25
        }
      ]
    },
    {
      "cell_type": "code",
      "source": [
        "import seaborn as sns\n",
        "import matplotlib.pyplot as plt\n",
        "plt.figure(figsize=(10,6))\n",
        "sns.heatmap(data_cor, annot=True)"
      ],
      "metadata": {
        "colab": {
          "base_uri": "https://localhost:8080/",
          "height": 395
        },
        "id": "vjfduPnU6775",
        "outputId": "ba0a0379-2c1f-4ffb-ed12-a7c51133e5e7"
      },
      "execution_count": 26,
      "outputs": [
        {
          "output_type": "execute_result",
          "data": {
            "text/plain": [
              "<matplotlib.axes._subplots.AxesSubplot at 0x7f603782d710>"
            ]
          },
          "metadata": {},
          "execution_count": 26
        },
        {
          "output_type": "display_data",
          "data": {
            "text/plain": [
              "<Figure size 720x432 with 2 Axes>"
            ],
            "image/png": "[encoded data removed]"
          },
          "metadata": {
            "needs_background": "light"
          }
        }
      ]
    },
    {
      "cell_type": "markdown",
      "source": [
        "From the above correlation metrix, we could identify that there is no correlated features to remove"
      ],
      "metadata": {
        "id": "PbAY6eGM901R"
      }
    },
    {
      "cell_type": "markdown",
      "source": [
        "#Wrapper based methods"
      ],
      "metadata": {
        "id": "GW-9oVXn-SW9"
      }
    },
    {
      "cell_type": "markdown",
      "source": [
        "1-SequentialFeatureSelector"
      ],
      "metadata": {
        "id": "J4nkSTPJ-fYs"
      }
    },
    {
      "cell_type": "code",
      "source": [
        "from sklearn.model_selection import train_test_split, RandomizedSearchCV\n",
        "from sklearn.linear_model import LinearRegression\n",
        "from sklearn import metrics\n",
        "from sklearn.preprocessing import MinMaxScaler\n",
        "\n",
        "X = data.drop('OxygenCount', axis=1)\n",
        "y = data[['OxygenCount']]\n"
      ],
      "metadata": {
        "id": "tpwXNhqN-kHc"
      },
      "execution_count": 27,
      "outputs": []
    },
    {
      "cell_type": "code",
      "source": [
        "y = y.values.ravel()"
      ],
      "metadata": {
        "id": "ymfpFRHw_Gax"
      },
      "execution_count": 28,
      "outputs": []
    },
    {
      "cell_type": "code",
      "source": [
        "y.shape"
      ],
      "metadata": {
        "colab": {
          "base_uri": "https://localhost:8080/"
        },
        "id": "Llfu5DdM_atV",
        "outputId": "d6fbe061-7a35-4db5-febf-0046f3631b26"
      },
      "execution_count": 29,
      "outputs": [
        {
          "output_type": "execute_result",
          "data": {
            "text/plain": [
              "(199378,)"
            ]
          },
          "metadata": {},
          "execution_count": 29
        }
      ]
    },
    {
      "cell_type": "code",
      "source": [
        "X.shape"
      ],
      "metadata": {
        "colab": {
          "base_uri": "https://localhost:8080/"
        },
        "id": "dKkwRjA7AUUv",
        "outputId": "b5e5e813-60f1-4418-f2e2-106ae685df14"
      },
      "execution_count": 30,
      "outputs": [
        {
          "output_type": "execute_result",
          "data": {
            "text/plain": [
              "(199378, 4)"
            ]
          },
          "metadata": {},
          "execution_count": 30
        }
      ]
    },
    {
      "cell_type": "markdown",
      "source": [
        "Scaling the features"
      ],
      "metadata": {
        "id": "MwELpgZ3_qer"
      }
    },
    {
      "cell_type": "code",
      "source": [
        "X_train, X_test, y_train, y_test = train_test_split(X, y, test_size=0.25, random_state=42)\n",
        "scaler = MinMaxScaler()\n",
        "X_train = scaler.fit_transform(X_train)\n",
        "X_test = scaler.transform(X_test)"
      ],
      "metadata": {
        "id": "iVl2ZdSQ_oVF"
      },
      "execution_count": 31,
      "outputs": []
    },
    {
      "cell_type": "code",
      "source": [
        "X_test"
      ],
      "metadata": {
        "colab": {
          "base_uri": "https://localhost:8080/"
        },
        "id": "AhPh1O7bCyI2",
        "outputId": "5a53cf28-2bba-4536-b5d3-fb27e8aae8fd"
      },
      "execution_count": 32,
      "outputs": [
        {
          "output_type": "execute_result",
          "data": {
            "text/plain": [
              "array([[4.27419355e-01, 3.04304304e-01, 2.07142857e-01, 1.31001179e-04],\n",
              "       [6.16935484e-01, 3.45845846e-01, 4.28571429e-01, 1.28001152e-04],\n",
              "       [2.62096774e-01, 5.98098098e-01, 4.78571429e-01, 1.23001107e-04],\n",
              "       ...,\n",
              "       [3.26612903e-01, 6.34134134e-01, 2.60714286e-01, 1.36001224e-04],\n",
              "       [3.95161290e-01, 6.20620621e-02, 3.07142857e-01, 1.35001215e-04],\n",
              "       [7.41935484e-01, 4.92492492e-01, 3.85714286e-01, 1.29001161e-04]])"
            ]
          },
          "metadata": {},
          "execution_count": 32
        }
      ]
    },
    {
      "cell_type": "code",
      "source": [
        "X_train"
      ],
      "metadata": {
        "colab": {
          "base_uri": "https://localhost:8080/"
        },
        "id": "GdiurYcrCPQX",
        "outputId": "e2d74b6d-21bd-4f18-f3c6-a85f4e41f5ba"
      },
      "execution_count": 33,
      "outputs": [
        {
          "output_type": "execute_result",
          "data": {
            "text/plain": [
              "array([[6.04838710e-01, 6.62662663e-01, 6.85714286e-01, 1.38001242e-04],\n",
              "       [9.71774194e-01, 2.00200200e-01, 6.42857143e-01, 1.34001206e-04],\n",
              "       [6.25000000e-01, 2.90290290e-01, 4.57142857e-01, 1.39001251e-04],\n",
              "       ...,\n",
              "       [2.70161290e-01, 3.76376376e-01, 1.82142857e-01, 1.13001017e-04],\n",
              "       [5.96774194e-01, 3.20820821e-01, 4.78571429e-01, 9.80008820e-05],\n",
              "       [2.78225806e-01, 4.73473473e-01, 3.71428571e-01, 1.19001071e-04]])"
            ]
          },
          "metadata": {},
          "execution_count": 33
        }
      ]
    },
    {
      "cell_type": "code",
      "source": [
        "!pip install mlxtend"
      ],
      "metadata": {
        "id": "ibNseRlKDB20"
      },
      "execution_count": null,
      "outputs": []
    },
    {
      "cell_type": "code",
      "source": [
        "import joblib\n",
        "import sys\n",
        "sys.modules['sklearn.externals.joblib'] = joblib\n",
        "from mlxtend.feature_selection import SequentialFeatureSelector as SFS"
      ],
      "metadata": {
        "id": "mBZi_LngDG9k"
      },
      "execution_count": 35,
      "outputs": []
    },
    {
      "cell_type": "code",
      "source": [
        "sfs = SFS(LinearRegression(),\n",
        "          k_features='best',\n",
        "          verbose=1,\n",
        "          forward=True,\n",
        "          floating=False,\n",
        "          scoring='r2',\n",
        "          cv=5)"
      ],
      "metadata": {
        "id": "6dujfznnDYzT"
      },
      "execution_count": 36,
      "outputs": []
    },
    {
      "cell_type": "code",
      "source": [
        "sfs.fit(X, y)"
      ],
      "metadata": {
        "colab": {
          "base_uri": "https://localhost:8080/"
        },
        "id": "cUldIQVuJPw4",
        "outputId": "8ab62ba5-7ab7-4b23-b598-6c2bd3cfb9df"
      },
      "execution_count": 37,
      "outputs": [
        {
          "output_type": "stream",
          "name": "stderr",
          "text": [
            "[Parallel(n_jobs=1)]: Using backend SequentialBackend with 1 concurrent workers.\n",
            "[Parallel(n_jobs=1)]: Done   4 out of   4 | elapsed:    0.5s finished\n",
            "Features: 1/4[Parallel(n_jobs=1)]: Using backend SequentialBackend with 1 concurrent workers.\n",
            "[Parallel(n_jobs=1)]: Done   3 out of   3 | elapsed:    1.0s finished\n",
            "Features: 2/4[Parallel(n_jobs=1)]: Using backend SequentialBackend with 1 concurrent workers.\n",
            "[Parallel(n_jobs=1)]: Done   2 out of   2 | elapsed:    1.0s finished\n",
            "Features: 3/4[Parallel(n_jobs=1)]: Using backend SequentialBackend with 1 concurrent workers.\n",
            "[Parallel(n_jobs=1)]: Done   1 out of   1 | elapsed:    0.7s finished\n",
            "Features: 4/4"
          ]
        },
        {
          "output_type": "execute_result",
          "data": {
            "text/plain": [
              "SequentialFeatureSelector(estimator=LinearRegression(), k_features='best',\n",
              "                          scoring='r2', verbose=1)"
            ]
          },
          "metadata": {},
          "execution_count": 37
        }
      ]
    },
    {
      "cell_type": "code",
      "source": [
        "sfs.k_feature_names_ "
      ],
      "metadata": {
        "colab": {
          "base_uri": "https://localhost:8080/"
        },
        "id": "UYWUVFwEJ5_Q",
        "outputId": "00ef03ee-5b5c-478d-9cee-1333193bdf04"
      },
      "execution_count": 38,
      "outputs": [
        {
          "output_type": "execute_result",
          "data": {
            "text/plain": [
              "('Battery',)"
            ]
          },
          "metadata": {},
          "execution_count": 38
        }
      ]
    },
    {
      "cell_type": "code",
      "source": [
        "from mlxtend.plotting import plot_sequential_feature_selection as plot_sfs\n",
        "import matplotlib.pyplot as plt\n",
        "fig1 = plot_sfs(sfs.get_metric_dict(), kind='std_dev')\n",
        "plt.title('Sequential Forward Selection')\n",
        "plt.grid()\n",
        "plt.show()"
      ],
      "metadata": {
        "colab": {
          "base_uri": "https://localhost:8080/",
          "height": 295
        },
        "id": "gPMwxbBKKM9v",
        "outputId": "67206eb3-3303-4b56-84a0-d2727ddac804"
      },
      "execution_count": 39,
      "outputs": [
        {
          "output_type": "display_data",
          "data": {
            "text/plain": [
              "<Figure size 432x288 with 1 Axes>"
            ],
            "image/png": "[encoded data removed]"
          },
          "metadata": {
            "needs_background": "light"
          }
        }
      ]
    },
    {
      "cell_type": "code",
      "source": [
        "pd.DataFrame.from_dict(sfs.get_metric_dict()).T"
      ],
      "metadata": {
        "colab": {
          "base_uri": "https://localhost:8080/",
          "height": 259
        },
        "id": "Dc0GfrOrQ0zM",
        "outputId": "f9921b70-cde6-44a5-cd5f-159d122a91ac"
      },
      "execution_count": 40,
      "outputs": [
        {
          "output_type": "execute_result",
          "data": {
            "text/plain": [
              "    feature_idx                                          cv_scores avg_score  \\\n",
              "1          (3,)  [-0.4295356449369081, -0.004995442073238543, -... -0.826537   \n",
              "2        (0, 3)  [-0.6680652580312587, -0.004788444773241807, -... -0.871259   \n",
              "3     (0, 1, 3)  [-0.26015804597624803, -0.011192652805912306, ... -1.130841   \n",
              "4  (0, 1, 2, 3)  [-1.6135625446095978, -0.013916863628949283, -... -1.462484   \n",
              "\n",
              "                               feature_names  ci_bound   std_dev   std_err  \n",
              "1                                 (Battery,)  0.990849  0.770914  0.385457  \n",
              "2                              (PH, Battery)  1.055786  0.821437  0.410719  \n",
              "3               (PH, Conductivity , Battery)  1.765003  1.373233  0.686616  \n",
              "4  (PH, Conductivity , Temperature, Battery)  1.709364  1.329943  0.664972  "
            ],
            "text/html": [
              "\n",
              "  <div id=\"df-02b9aedf-2937-4ad9-8e76-9abd6e852001\">\n",
              "    <div class=\"colab-df-container\">\n",
              "      <div>\n",
              "<style scoped>\n",
              "    .dataframe tbody tr th:only-of-type {\n",
              "        vertical-align: middle;\n",
              "    }\n",
              "\n",
              "    .dataframe tbody tr th {\n",
              "        vertical-align: top;\n",
              "    }\n",
              "\n",
              "    .dataframe thead th {\n",
              "        text-align: right;\n",
              "    }\n",
              "</style>\n",
              "<table border=\"1\" class=\"dataframe\">\n",
              "  <thead>\n",
              "    <tr style=\"text-align: right;\">\n",
              "      <th></th>\n",
              "      <th>feature_idx</th>\n",
              "      <th>cv_scores</th>\n",
              "      <th>avg_score</th>\n",
              "      <th>feature_names</th>\n",
              "      <th>ci_bound</th>\n",
              "      <th>std_dev</th>\n",
              "      <th>std_err</th>\n",
              "    </tr>\n",
              "  </thead>\n",
              "  <tbody>\n",
              "    <tr>\n",
              "      <th>1</th>\n",
              "      <td>(3,)</td>\n",
              "      <td>[-0.4295356449369081, -0.004995442073238543, -...</td>\n",
              "      <td>-0.826537</td>\n",
              "      <td>(Battery,)</td>\n",
              "      <td>0.990849</td>\n",
              "      <td>0.770914</td>\n",
              "      <td>0.385457</td>\n",
              "    </tr>\n",
              "    <tr>\n",
              "      <th>2</th>\n",
              "      <td>(0, 3)</td>\n",
              "      <td>[-0.6680652580312587, -0.004788444773241807, -...</td>\n",
              "      <td>-0.871259</td>\n",
              "      <td>(PH, Battery)</td>\n",
              "      <td>1.055786</td>\n",
              "      <td>0.821437</td>\n",
              "      <td>0.410719</td>\n",
              "    </tr>\n",
              "    <tr>\n",
              "      <th>3</th>\n",
              "      <td>(0, 1, 3)</td>\n",
              "      <td>[-0.26015804597624803, -0.011192652805912306, ...</td>\n",
              "      <td>-1.130841</td>\n",
              "      <td>(PH, Conductivity , Battery)</td>\n",
              "      <td>1.765003</td>\n",
              "      <td>1.373233</td>\n",
              "      <td>0.686616</td>\n",
              "    </tr>\n",
              "    <tr>\n",
              "      <th>4</th>\n",
              "      <td>(0, 1, 2, 3)</td>\n",
              "      <td>[-1.6135625446095978, -0.013916863628949283, -...</td>\n",
              "      <td>-1.462484</td>\n",
              "      <td>(PH, Conductivity , Temperature, Battery)</td>\n",
              "      <td>1.709364</td>\n",
              "      <td>1.329943</td>\n",
              "      <td>0.664972</td>\n",
              "    </tr>\n",
              "  </tbody>\n",
              "</table>\n",
              "</div>\n",
              "      <button class=\"colab-df-convert\" onclick=\"convertToInteractive('df-02b9aedf-2937-4ad9-8e76-9abd6e852001')\"\n",
              "              title=\"Convert this dataframe to an interactive table.\"\n",
              "              style=\"display:none;\">\n",
              "        \n",
              "  <svg xmlns=\"http://www.w3.org/2000/svg\" height=\"24px\"viewBox=\"0 0 24 24\"\n",
              "       width=\"24px\">\n",
              "    <path d=\"M0 0h24v24H0V0z\" fill=\"none\"/>\n",
              "    <path d=\"M18.56 5.44l.94 2.06.94-2.06 2.06-.94-2.06-.94-.94-2.06-.94 2.06-2.06.94zm-11 1L8.5 8.5l.94-2.06 2.06-.94-2.06-.94L8.5 2.5l-.94 2.06-2.06.94zm10 10l.94 2.06.94-2.06 2.06-.94-2.06-.94-.94-2.06-.94 2.06-2.06.94z\"/><path d=\"M17.41 7.96l-1.37-1.37c-.4-.4-.92-.59-1.43-.59-.52 0-1.04.2-1.43.59L10.3 9.45l-7.72 7.72c-.78.78-.78 2.05 0 2.83L4 21.41c.39.39.9.59 1.41.59.51 0 1.02-.2 1.41-.59l7.78-7.78 2.81-2.81c.8-.78.8-2.07 0-2.86zM5.41 20L4 18.59l7.72-7.72 1.47 1.35L5.41 20z\"/>\n",
              "  </svg>\n",
              "      </button>\n",
              "      \n",
              "  <style>\n",
              "    .colab-df-container {\n",
              "      display:flex;\n",
              "      flex-wrap:wrap;\n",
              "      gap: 12px;\n",
              "    }\n",
              "\n",
              "    .colab-df-convert {\n",
              "      background-color: #E8F0FE;\n",
              "      border: none;\n",
              "      border-radius: 50%;\n",
              "      cursor: pointer;\n",
              "      display: none;\n",
              "      fill: #1967D2;\n",
              "      height: 32px;\n",
              "      padding: 0 0 0 0;\n",
              "      width: 32px;\n",
              "    }\n",
              "\n",
              "    .colab-df-convert:hover {\n",
              "      background-color: #E2EBFA;\n",
              "      box-shadow: 0px 1px 2px rgba(60, 64, 67, 0.3), 0px 1px 3px 1px rgba(60, 64, 67, 0.15);\n",
              "      fill: #174EA6;\n",
              "    }\n",
              "\n",
              "    [theme=dark] .colab-df-convert {\n",
              "      background-color: #3B4455;\n",
              "      fill: #D2E3FC;\n",
              "    }\n",
              "\n",
              "    [theme=dark] .colab-df-convert:hover {\n",
              "      background-color: #434B5C;\n",
              "      box-shadow: 0px 1px 3px 1px rgba(0, 0, 0, 0.15);\n",
              "      filter: drop-shadow(0px 1px 2px rgba(0, 0, 0, 0.3));\n",
              "      fill: #FFFFFF;\n",
              "    }\n",
              "  </style>\n",
              "\n",
              "      <script>\n",
              "        const buttonEl =\n",
              "          document.querySelector('#df-02b9aedf-2937-4ad9-8e76-9abd6e852001 button.colab-df-convert');\n",
              "        buttonEl.style.display =\n",
              "          google.colab.kernel.accessAllowed ? 'block' : 'none';\n",
              "\n",
              "        async function convertToInteractive(key) {\n",
              "          const element = document.querySelector('#df-02b9aedf-2937-4ad9-8e76-9abd6e852001');\n",
              "          const dataTable =\n",
              "            await google.colab.kernel.invokeFunction('convertToInteractive',\n",
              "                                                     [key], {});\n",
              "          if (!dataTable) return;\n",
              "\n",
              "          const docLinkHtml = 'Like what you see? Visit the ' +\n",
              "            '<a target=\"_blank\" href=https://colab.research.google.com/notebooks/data_table.ipynb>data table notebook</a>'\n",
              "            + ' to learn more about interactive tables.';\n",
              "          element.innerHTML = '';\n",
              "          dataTable['output_type'] = 'display_data';\n",
              "          await google.colab.output.renderOutput(dataTable, element);\n",
              "          const docLink = document.createElement('div');\n",
              "          docLink.innerHTML = docLinkHtml;\n",
              "          element.appendChild(docLink);\n",
              "        }\n",
              "      </script>\n",
              "    </div>\n",
              "  </div>\n",
              "  "
            ]
          },
          "metadata": {},
          "execution_count": 40
        }
      ]
    }
  ]
}